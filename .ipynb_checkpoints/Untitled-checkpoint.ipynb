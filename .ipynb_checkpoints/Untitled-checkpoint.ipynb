{
 "cells": [
  {
   "cell_type": "code",
   "execution_count": 1,
   "metadata": {},
   "outputs": [
    {
     "data": {
      "text/plain": [
       "8"
      ]
     },
     "execution_count": 1,
     "metadata": {},
     "output_type": "execute_result"
    }
   ],
   "source": [
    "a=3\n",
    "b=5\n",
    "a+b"
   ]
  },
  {
   "cell_type": "code",
   "execution_count": null,
   "metadata": {},
   "outputs": [],
   "source": [
    "# this is a H1"
   ]
  },
  {
   "cell_type": "code",
   "execution_count": null,
   "metadata": {},
   "outputs": [],
   "source": [
    "현재 시간과 분을 입력값으로 받아서 두개의 값을 더하는 연산을 수행하세요"
   ]
  },
  {
   "cell_type": "code",
   "execution_count": null,
   "metadata": {},
   "outputs": [],
   "source": []
  },
  {
   "cell_type": "code",
   "execution_count": null,
   "metadata": {},
   "outputs": [],
   "source": [
    "#첫번째 문제 나만 볼수 있다 (clear)\n",
    "#두번째 문제는 : 주석이없다 ()\n",
    "#세번째 문제는 : 변수명이 형편없다.\n",
    "#네번째 문제는 : 실시간성을 반영하지 않는다."
   ]
  },
  {
   "cell_type": "code",
   "execution_count": null,
   "metadata": {},
   "outputs": [],
   "source": [
    "# 현재 시간을 시간정보를 가져온다\n",
    "currentTime = 2\n",
    "currentMinutuse = 25"
   ]
  },
  {
   "cell_type": "code",
   "execution_count": null,
   "metadata": {},
   "outputs": [],
   "source": [
    "#현재 시간 및 분 정보를 더한다"
   ]
  },
  {
   "cell_type": "code",
   "execution_count": 9,
   "metadata": {},
   "outputs": [],
   "source": [
    "currentTime =2 \n",
    "currentMinutuse = 5\n",
    "sumTimeMinutes = currentTime + currentMinutuse"
   ]
  },
  {
   "cell_type": "code",
   "execution_count": 3,
   "metadata": {},
   "outputs": [
    {
     "ename": "NameError",
     "evalue": "name 'sumTimeMinutes' is not defined",
     "output_type": "error",
     "traceback": [
      "\u001b[1;31m---------------------------------------------------------------------------\u001b[0m",
      "\u001b[1;31mNameError\u001b[0m                                 Traceback (most recent call last)",
      "\u001b[1;32m<ipython-input-3-95bb97e61554>\u001b[0m in \u001b[0;36m<module>\u001b[1;34m\u001b[0m\n\u001b[0;32m      1\u001b[0m \u001b[1;31m#결과 값으 출력한다.\u001b[0m\u001b[1;33m\u001b[0m\u001b[1;33m\u001b[0m\u001b[1;33m\u001b[0m\u001b[0m\n\u001b[1;32m----> 2\u001b[1;33m \u001b[0mprint\u001b[0m\u001b[1;33m(\u001b[0m\u001b[0msumTimeMinutes\u001b[0m\u001b[1;33m)\u001b[0m\u001b[1;33m\u001b[0m\u001b[1;33m\u001b[0m\u001b[0m\n\u001b[0m",
      "\u001b[1;31mNameError\u001b[0m: name 'sumTimeMinutes' is not defined"
     ]
    }
   ],
   "source": [
    "#결과 값으 출력한다.\n",
    "print(sumTimeMinutes)"
   ]
  },
  {
   "cell_type": "code",
   "execution_count": null,
   "metadata": {},
   "outputs": [],
   "source": [
    "# 날짜계산 라이브러리(datetune) 선언\n",
    "import datetime"
   ]
  },
  {
   "cell_type": "code",
   "execution_count": null,
   "metadata": {},
   "outputs": [],
   "source": [
    "#현재 날짜 정보 불러오기\n",
    "\n",
    "currentDAte =dt. datetie.now()\n",
    "#현재 시간 및 분 정보 저장\n",
    "currentmin = \n",
    "currenthour"
   ]
  },
  {
   "cell_type": "code",
   "execution_count": null,
   "metadata": {},
   "outputs": [],
   "source": [
    "shift + M 병합"
   ]
  },
  {
   "cell_type": "markdown",
   "metadata": {},
   "source": [
    "문자"
   ]
  },
  {
   "cell_type": "code",
   "execution_count": null,
   "metadata": {},
   "outputs": [],
   "source": [
    "firstLetter = \"smart 'intech' lecture \" \"\"\"smart 'fintech' \"aa\" lecture\"\"\"\n",
    "secondLetter = 'fintech'"
   ]
  },
  {
   "cell_type": "code",
   "execution_count": null,
   "metadata": {},
   "outputs": [],
   "source": [
    "firstLetter + secondLetter"
   ]
  },
  {
   "cell_type": "code",
   "execution_count": null,
   "metadata": {},
   "outputs": [],
   "source": [
    "'smarfintech'"
   ]
  },
  {
   "cell_type": "code",
   "execution_count": null,
   "metadata": {},
   "outputs": [],
   "source": []
  },
  {
   "cell_type": "code",
   "execution_count": 4,
   "metadata": {},
   "outputs": [
    {
     "data": {
      "text/plain": [
       "9"
      ]
     },
     "execution_count": 4,
     "metadata": {},
     "output_type": "execute_result"
    }
   ],
   "source": [
    "a=3\n",
    "b=6\n",
    "a+b"
   ]
  },
  {
   "cell_type": "code",
   "execution_count": 16,
   "metadata": {
    "scrolled": true
   },
   "outputs": [
    {
     "ename": "SyntaxError",
     "evalue": "EOL while scanning string literal (<ipython-input-16-9d2ca48a604e>, line 3)",
     "output_type": "error",
     "traceback": [
      "\u001b[1;36m  File \u001b[1;32m\"<ipython-input-16-9d2ca48a604e>\"\u001b[1;36m, line \u001b[1;32m3\u001b[0m\n\u001b[1;33m    print(yearweek.count('W’))\u001b[0m\n\u001b[1;37m                              ^\u001b[0m\n\u001b[1;31mSyntaxError\u001b[0m\u001b[1;31m:\u001b[0m EOL while scanning string literal\n"
     ]
    }
   ],
   "source": [
    "#문자열 개수세기 (count)\n",
    "yearweek = \"2017W28\"\n",
    "print(yearweek.count('W’))"
   ]
  },
  {
   "cell_type": "code",
   "execution_count": null,
   "metadata": {},
   "outputs": [],
   "source": []
  },
  {
   "cell_type": "code",
   "execution_count": null,
   "metadata": {},
   "outputs": [],
   "source": []
  },
  {
   "cell_type": "code",
   "execution_count": 17,
   "metadata": {},
   "outputs": [
    {
     "ename": "SyntaxError",
     "evalue": "invalid syntax (<ipython-input-17-9b1570788fef>, line 1)",
     "output_type": "error",
     "traceback": [
      "\u001b[1;36m  File \u001b[1;32m\"<ipython-input-17-9b1570788fef>\"\u001b[1;36m, line \u001b[1;32m1\u001b[0m\n\u001b[1;33m    문자열 위치확인 (index)\u001b[0m\n\u001b[1;37m        ^\u001b[0m\n\u001b[1;31mSyntaxError\u001b[0m\u001b[1;31m:\u001b[0m invalid syntax\n"
     ]
    }
   ],
   "source": [
    "문자열 위치확인 (index)\n",
    "print(yearweek.index('W'))\n",
    "delimeter=yearweek.index('W')\n",
    "newYearweek = yearweek[:delimeter]+yearweek[delimeter+1:]\n",
    "print(newYearweek)\n"
   ]
  },
  {
   "cell_type": "code",
   "execution_count": null,
   "metadata": {},
   "outputs": [],
   "source": [
    "#shift + M 병합\n",
    "\n",
    "#나누기 ->  ctrl+shift + \"-\"\n",
    "\n",
    "“SEC 20180212 250” 문자열 생성 후\n",
    "stock_name, date, value로 각각 의미하는\n",
    "문자열을 생성하세요\n"
   ]
  },
  {
   "cell_type": "markdown",
   "metadata": {},
   "source": [
    "“SEC 20180212 250” 문자열 생성 후\n",
    "stock_name, date, value로 각각 의미하는\n",
    "문자열을 생성하세요\n"
   ]
  },
  {
   "cell_type": "code",
   "execution_count": null,
   "metadata": {},
   "outputs": [],
   "source": [
    "#문자 → \n",
    "수\n",
    "(정수\n",
    ")\n",
    "strValue = '1234'\n",
    "cvIntValue = int(strValue)\n",
    "print(type(cvIntValue)) #문자 → 수(실수)\n",
    "strValue = '1234'\n",
    "cvFloatValue = float(strValue)\n",
    "print(type(cvFloatValue)) #숫자 → 문자\n",
    "numberValue = 1234\n",
    "cvStrValue = str(numberValue)\n",
    "print(type(cvStrValue))\n"
   ]
  },
  {
   "cell_type": "code",
   "execution_count": 42,
   "metadata": {
    "scrolled": true
   },
   "outputs": [
    {
     "name": "stdout",
     "output_type": "stream",
     "text": [
      "stock_name => SEC\n",
      "date => 2018W28\n",
      "value => 250\n"
     ]
    }
   ],
   "source": [
    "#문자열 생성\n",
    "\n",
    "\n",
    "str = \"SEC 20180212 250\"\n",
    "\n",
    "delimeter = \" \"\n",
    "strValue_list = strValue.split(\" \")\n",
    "\n",
    "strValue.split(\" \")\n",
    "\n",
    "\n",
    "stock_name = strValue[:3]\n",
    "date = strValue_list[1]\n",
    "value = strValue_list[2]\n",
    "print(\"stock_name => \" + stock_name)\n",
    "print(\"date => \" + date)\n",
    "print(\"value => \" + value)"
   ]
  },
  {
   "cell_type": "markdown",
   "metadata": {},
   "source": [
    "SEC 20180212 250” 문자열 생성 후 stock_name, date, value로 각각 의미하는 문자열을 생성하세요"
   ]
  },
  {
   "cell_type": "code",
   "execution_count": 38,
   "metadata": {},
   "outputs": [
    {
     "name": "stdout",
     "output_type": "stream",
     "text": [
      "stock_name = SEC\n",
      "data = 20180212\n",
      "value = 250\n"
     ]
    }
   ],
   "source": [
    "#문자열 생성\n",
    "targetValue = \"SEC 20180212 250\"\n",
    "\n",
    "stock_name = targetValue[0:3]\n",
    "data = targetValue[4:-4]\n",
    "value = targetValue[-3:]\n",
    "\n",
    "print(\"stock_name = \" + stock_name)\n",
    "print(\"data = \" + data)\n",
    "print(\"value = \" + value)"
   ]
  },
  {
   "cell_type": "code",
   "execution_count": null,
   "metadata": {},
   "outputs": [],
   "source": []
  },
  {
   "cell_type": "markdown",
   "metadata": {},
   "source": [
    "“Sec 2018W28 250” 문자열 생성 후\n",
    "stock_name, date, value로 각각 의미하는\n",
    "문자열을 생성하세요\n",
    "(단 모두 대문자여야 하며, ‘W’를 삭제해야함)"
   ]
  },
  {
   "cell_type": "code",
   "execution_count": 3,
   "metadata": {},
   "outputs": [
    {
     "name": "stdout",
     "output_type": "stream",
     "text": [
      "stock_name = SEC\n",
      "data = 201828\n",
      "value = 250\n"
     ]
    }
   ],
   "source": [
    "#문자열 생성\n",
    "\n",
    "targetValue = \"Sec 2018W28 250\"\n",
    "\n",
    "#대문자표기대문자표기\n",
    "\n",
    "stock_name = targetValue[0:3].upper()\n",
    "\n",
    "date = targetValue[4:-4].replace(\"W\",\"\")\n",
    "\n",
    "value = targetValue[-3:]\n",
    "\n",
    "\n",
    "print(\"stock_name = \" + stock_name)\n",
    "print(\"data = \" + date)\n",
    "print(\"value = \" + value)\n",
    "\n",
    "\n"
   ]
  },
  {
   "cell_type": "code",
   "execution_count": null,
   "metadata": {},
   "outputs": [],
   "source": [
    "delChar= \"w\""
   ]
  },
  {
   "cell_type": "code",
   "execution_count": null,
   "metadata": {},
   "outputs": [],
   "source": []
  },
  {
   "cell_type": "markdown",
   "metadata": {},
   "source": [
    "[120,150,300,500,1000,100,2000] \n",
    "값에서 최소 최대 값을 뺀 평균을\n",
    "average 이름의 변수에 담으세요"
   ]
  },
  {
   "cell_type": "code",
   "execution_count": 32,
   "metadata": {},
   "outputs": [
    {
     "name": "stdout",
     "output_type": "stream",
     "text": [
      "1000\n",
      "100\n",
      "1550\n",
      "4\n"
     ]
    }
   ],
   "source": [
    "priceList = [100,150,300,500 ,1000 , 100 , 2000]\n",
    "\n",
    "print(max (functionList) )\n",
    "print(min (priceList) )\n",
    "print(sum (priceList) )\n",
    "print(len (priceList) )"
   ]
  },
  {
   "cell_type": "code",
   "execution_count": 34,
   "metadata": {},
   "outputs": [
    {
     "name": "stdout",
     "output_type": "stream",
     "text": [
      "2000\n",
      "100\n",
      "4170\n",
      "7\n"
     ]
    }
   ],
   "source": [
    "functionList = [120,150,300,500,1000,100,2000]\n",
    "print(max (functionList))\n",
    "print(min (functionList))\n",
    "print(sum (functionList))\n",
    "print(len (functionList))"
   ]
  },
  {
   "cell_type": "code",
   "execution_count": null,
   "metadata": {},
   "outputs": [],
   "source": [
    "sum(initlist) #sum , len , min , max\n",
    "#리스트는 수정가능하다\n",
    "iniitList[2] = 1000000\n",
    "iniitList"
   ]
  },
  {
   "cell_type": "code",
   "execution_count": null,
   "metadata": {},
   "outputs": [],
   "source": [
    "iniitList.remove(400)"
   ]
  },
  {
   "cell_type": "code",
   "execution_count": null,
   "metadata": {},
   "outputs": [],
   "source": [
    "iniitList.append(30)"
   ]
  },
  {
   "cell_type": "code",
   "execution_count": null,
   "metadata": {},
   "outputs": [],
   "source": [
    "#리스트의 유용한 함수스트의 유용한 함수\n",
    "iniitList.count(2500)\n"
   ]
  },
  {
   "cell_type": "code",
   "execution_count": null,
   "metadata": {},
   "outputs": [],
   "source": []
  },
  {
   "cell_type": "code",
   "execution_count": null,
   "metadata": {},
   "outputs": [],
   "source": []
  },
  {
   "cell_type": "code",
   "execution_count": null,
   "metadata": {},
   "outputs": [],
   "source": []
  }
 ],
 "metadata": {
  "kernelspec": {
   "display_name": "Python 3",
   "language": "python",
   "name": "python3"
  },
  "language_info": {
   "codemirror_mode": {
    "name": "ipython",
    "version": 3
   },
   "file_extension": ".py",
   "mimetype": "text/x-python",
   "name": "python",
   "nbconvert_exporter": "python",
   "pygments_lexer": "ipython3",
   "version": "3.8.5"
  }
 },
 "nbformat": 4,
 "nbformat_minor": 4
}
